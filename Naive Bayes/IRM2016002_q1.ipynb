{
 "cells": [
  {
   "cell_type": "markdown",
   "metadata": {},
   "source": [
    "# Sbmitted By Ankit Kumar IRM2016002"
   ]
  },
  {
   "cell_type": "code",
   "execution_count": 1,
   "metadata": {},
   "outputs": [],
   "source": [
    "import numpy as np, pandas as pd, matplotlib.pyplot as plt\n",
    "from sklearn.model_selection import train_test_split as split\n",
    "from sklearn.metrics import confusion_matrix\n",
    "import seaborn as sns"
   ]
  },
  {
   "cell_type": "code",
   "execution_count": 2,
   "metadata": {},
   "outputs": [],
   "source": [
    "class Bayesian():\n",
    "    def __init__(self, X, y):\n",
    "        self.X = X\n",
    "        self.y = y\n",
    "        self.bag = {}\n",
    "        self.spam_words = {}\n",
    "        self.ham_words = {}\n",
    "        self.spam = 0\n",
    "        self.ham = 0\n",
    "        self.pHam = 1\n",
    "        self.pSpam = 1\n",
    "        self.count_spam =0\n",
    "        self.count_ham =0\n",
    "        \n",
    "    def bow(self):\n",
    "       \n",
    "        for i,msg in enumerate(self.X):\n",
    "            for word in np.unique(msg.split()):\n",
    "                self.bag[word] = self.bag.get(word,0)+1\n",
    "                if(self.y[i]==labels['spam']):\n",
    "                    self.count_spam+=1\n",
    "                    self.spam_words[word] = self.spam_words.get(word,0)+1\n",
    "                if (self.y[i]==labels['ham']):\n",
    "                    self.count_ham+=1\n",
    "                    self.ham_words[word] = self.ham_words.get(word,0)+1\n",
    "        self.spam = np.count_nonzero(self.y==labels['spam'])\n",
    "        self.ham = np.count_nonzero(self.y == labels['ham'])       \n",
    "            \n",
    "    def calc_prob(self):\n",
    "        self.bow()\n",
    "        self.pSpam = self.spam/(self.spam+self.ham+1)\n",
    "        self.pHpam = self.ham/(self.spam+self.ham+1)\n",
    "        \n",
    "        self.p_w_spam = {}\n",
    "        self.p_w_ham = {}\n",
    "        for i,k in self.spam_words.items():\n",
    "            if(i not in self.ham_words):\n",
    "                self.p_w_spam[i] = 1\n",
    "            else:\n",
    "#                 self.p_w_spam[i] = k/(k+self.ham_words[i]) \n",
    "                self.p_w_spam[i] = k/(self.spam)\n",
    "#                 self.p_w_spam[i] = k/(self.count_spam)\n",
    "                \n",
    "                \n",
    "        \n",
    "        for i,k in self.ham_words.items():\n",
    "            if(i not in self.spam_words):\n",
    "                self.p_w_ham[i] = 1\n",
    "            else:\n",
    "#                 self.p_w_ham[i] = k/(k+self.spam_words[i]) \n",
    "                self.p_w_ham[i] = k/(self.ham)\n",
    "#                 self.p_w_ham[i] = k/(self.count_ham)\n",
    "                \n",
    "    \n",
    "    def train(self):\n",
    "        self.calc_prob()\n",
    "        \n",
    "    def predict(self,msg):\n",
    "        msg = remove_redundant(msg)\n",
    "\n",
    "        p_h=self.pHpam\n",
    "        p_s=self.pSpam\n",
    "        \n",
    "        for x in msg.split():\n",
    "            if self.bag.get(x,0)!=0:\n",
    "                if(self.ham_words.get(x,0)!=0):\n",
    "                    p_h *= self.p_w_ham[x]\n",
    "                else:\n",
    "                    p_h *= 0.01\n",
    "                if(self.spam_words.get(x,0)!=0):\n",
    "                        p_s *= self.p_w_spam[x]\n",
    "                else:\n",
    "                    p_s *= 0.01\n",
    "        \n",
    "        return (p_s*self.pSpam,p_h*self.pHam)\n",
    "            \n",
    "    def predict_spam(self,msg):\n",
    "        a,b = self.predict(msg)\n",
    "        return a/(a+b)\n",
    "    \n",
    "    def predict_ham(self,msg):\n",
    "        a,b = self.predict(msg)\n",
    "        return b/(a+b)\n",
    "    \n",
    "    def predict_label(self,msg):\n",
    "        a = self.predict_spam(msg)\n",
    "        b = self.predict_ham(msg)\n",
    "        if(a>b):\n",
    "            return labels['spam']\n",
    "        else:\n",
    "            return labels['ham']\n",
    "        \n",
    "    def predict_array(self,X_n):\n",
    "        l = len(X_n)\n",
    "        ans = np.zeros(l)\n",
    "        for i in range(0,l):\n",
    "            ans[i] = int(self.predict_label(X_n[i]))\n",
    "        return ans\n",
    "    \n",
    "    def metrics(self,label, prediction):\n",
    "        true_pos, true_neg, false_pos, false_neg = 0, 0, 0, 0\n",
    "        for i in range(len(label)):\n",
    "            true_pos += int(label[i] == labels['spam'] and prediction[i] == labels['spam'])\n",
    "            true_neg += int(label[i] == labels['ham'] and prediction[i] == labels['ham'])\n",
    "            false_pos += int(label[i] == labels['ham'] and prediction[i] == labels['spam'])\n",
    "            false_neg += int(label[i] == labels['spam'] and prediction[i] == labels['ham'])\n",
    "        precision = true_pos / (true_pos + false_pos+1)\n",
    "        recall = true_pos / (true_pos + false_neg+1)\n",
    "        Fscore = 2 * precision * recall / (precision + recall+1)\n",
    "        accuracy = (true_pos + true_neg) / (true_pos + true_neg + false_pos + false_neg+1)\n",
    "\n",
    "        print(\"Precision: \", precision)\n",
    "        print(\"Recall: \", recall)\n",
    "        print(\"F-score: \", Fscore)\n",
    "        print(\"Accuracy: \", accuracy)\n",
    "        print(true_pos,\" \",true_neg,\" \",false_pos,\" \",false_neg)    \n",
    "            \n",
    "        "
   ]
  },
  {
   "cell_type": "code",
   "execution_count": 3,
   "metadata": {},
   "outputs": [],
   "source": [
    "def plot_confusion_matrix(Y_pred,Y):\n",
    "    cm = confusion_matrix(Y_pred, Y, labels=None, sample_weight=None)\n",
    "    \n",
    "    df_cm = pd.DataFrame(cm, range(2), range(2))\n",
    "    sns.set(font_scale = 1.4) #for label size\n",
    "    ax = sns.heatmap(df_cm, annot = True, annot_kws = {\"size\": 16})\n",
    "    ax.set_title(\"Confusion Matrix\")\n",
    "    ax.set(xlabel = 'Predicted Class', ylabel = 'Actual Class')\n",
    "    plt.show()\n",
    "\n",
    "    "
   ]
  },
  {
   "cell_type": "markdown",
   "metadata": {},
   "source": [
    "## program starts from here"
   ]
  },
  {
   "cell_type": "code",
   "execution_count": 4,
   "metadata": {},
   "outputs": [
    {
     "data": {
      "text/html": [
       "<div>\n",
       "<style scoped>\n",
       "    .dataframe tbody tr th:only-of-type {\n",
       "        vertical-align: middle;\n",
       "    }\n",
       "\n",
       "    .dataframe tbody tr th {\n",
       "        vertical-align: top;\n",
       "    }\n",
       "\n",
       "    .dataframe thead th {\n",
       "        text-align: right;\n",
       "    }\n",
       "</style>\n",
       "<table border=\"1\" class=\"dataframe\">\n",
       "  <thead>\n",
       "    <tr style=\"text-align: right;\">\n",
       "      <th></th>\n",
       "      <th>v1</th>\n",
       "      <th>v2</th>\n",
       "      <th>Unnamed: 2</th>\n",
       "      <th>Unnamed: 3</th>\n",
       "      <th>Unnamed: 4</th>\n",
       "    </tr>\n",
       "  </thead>\n",
       "  <tbody>\n",
       "    <tr>\n",
       "      <th>0</th>\n",
       "      <td>ham</td>\n",
       "      <td>Go until jurong point, crazy.. Available only ...</td>\n",
       "      <td>NaN</td>\n",
       "      <td>NaN</td>\n",
       "      <td>NaN</td>\n",
       "    </tr>\n",
       "    <tr>\n",
       "      <th>1</th>\n",
       "      <td>ham</td>\n",
       "      <td>Ok lar... Joking wif u oni...</td>\n",
       "      <td>NaN</td>\n",
       "      <td>NaN</td>\n",
       "      <td>NaN</td>\n",
       "    </tr>\n",
       "    <tr>\n",
       "      <th>2</th>\n",
       "      <td>spam</td>\n",
       "      <td>Free entry in 2 a wkly comp to win FA Cup fina...</td>\n",
       "      <td>NaN</td>\n",
       "      <td>NaN</td>\n",
       "      <td>NaN</td>\n",
       "    </tr>\n",
       "    <tr>\n",
       "      <th>3</th>\n",
       "      <td>ham</td>\n",
       "      <td>U dun say so early hor... U c already then say...</td>\n",
       "      <td>NaN</td>\n",
       "      <td>NaN</td>\n",
       "      <td>NaN</td>\n",
       "    </tr>\n",
       "    <tr>\n",
       "      <th>4</th>\n",
       "      <td>ham</td>\n",
       "      <td>Nah I don't think he goes to usf, he lives aro...</td>\n",
       "      <td>NaN</td>\n",
       "      <td>NaN</td>\n",
       "      <td>NaN</td>\n",
       "    </tr>\n",
       "  </tbody>\n",
       "</table>\n",
       "</div>"
      ],
      "text/plain": [
       "     v1                                                 v2 Unnamed: 2  \\\n",
       "0   ham  Go until jurong point, crazy.. Available only ...        NaN   \n",
       "1   ham                      Ok lar... Joking wif u oni...        NaN   \n",
       "2  spam  Free entry in 2 a wkly comp to win FA Cup fina...        NaN   \n",
       "3   ham  U dun say so early hor... U c already then say...        NaN   \n",
       "4   ham  Nah I don't think he goes to usf, he lives aro...        NaN   \n",
       "\n",
       "  Unnamed: 3 Unnamed: 4  \n",
       "0        NaN        NaN  \n",
       "1        NaN        NaN  \n",
       "2        NaN        NaN  \n",
       "3        NaN        NaN  \n",
       "4        NaN        NaN  "
      ]
     },
     "execution_count": 4,
     "metadata": {},
     "output_type": "execute_result"
    }
   ],
   "source": [
    "labels = {'spam' : 1,'ham' : 0}\n",
    "data = pd.read_csv('spam_ham_data_set.csv',encoding = 'latin-1')\n",
    "data.head()"
   ]
  },
  {
   "cell_type": "markdown",
   "metadata": {},
   "source": [
    "## Read the csv"
   ]
  },
  {
   "cell_type": "code",
   "execution_count": 5,
   "metadata": {},
   "outputs": [
    {
     "data": {
      "text/html": [
       "<div>\n",
       "<style scoped>\n",
       "    .dataframe tbody tr th:only-of-type {\n",
       "        vertical-align: middle;\n",
       "    }\n",
       "\n",
       "    .dataframe tbody tr th {\n",
       "        vertical-align: top;\n",
       "    }\n",
       "\n",
       "    .dataframe thead th {\n",
       "        text-align: right;\n",
       "    }\n",
       "</style>\n",
       "<table border=\"1\" class=\"dataframe\">\n",
       "  <thead>\n",
       "    <tr style=\"text-align: right;\">\n",
       "      <th></th>\n",
       "      <th>v1</th>\n",
       "      <th>v2</th>\n",
       "    </tr>\n",
       "  </thead>\n",
       "  <tbody>\n",
       "    <tr>\n",
       "      <th>0</th>\n",
       "      <td>ham</td>\n",
       "      <td>Go until jurong point, crazy.. Available only ...</td>\n",
       "    </tr>\n",
       "    <tr>\n",
       "      <th>1</th>\n",
       "      <td>ham</td>\n",
       "      <td>Ok lar... Joking wif u oni...</td>\n",
       "    </tr>\n",
       "    <tr>\n",
       "      <th>2</th>\n",
       "      <td>spam</td>\n",
       "      <td>Free entry in 2 a wkly comp to win FA Cup fina...</td>\n",
       "    </tr>\n",
       "    <tr>\n",
       "      <th>3</th>\n",
       "      <td>ham</td>\n",
       "      <td>U dun say so early hor... U c already then say...</td>\n",
       "    </tr>\n",
       "    <tr>\n",
       "      <th>4</th>\n",
       "      <td>ham</td>\n",
       "      <td>Nah I don't think he goes to usf, he lives aro...</td>\n",
       "    </tr>\n",
       "  </tbody>\n",
       "</table>\n",
       "</div>"
      ],
      "text/plain": [
       "     v1                                                 v2\n",
       "0   ham  Go until jurong point, crazy.. Available only ...\n",
       "1   ham                      Ok lar... Joking wif u oni...\n",
       "2  spam  Free entry in 2 a wkly comp to win FA Cup fina...\n",
       "3   ham  U dun say so early hor... U c already then say...\n",
       "4   ham  Nah I don't think he goes to usf, he lives aro..."
      ]
     },
     "execution_count": 5,
     "metadata": {},
     "output_type": "execute_result"
    }
   ],
   "source": [
    "data.drop(['Unnamed: 2','Unnamed: 3','Unnamed: 4'],inplace=True,axis = 1);\n",
    "data.head()"
   ]
  },
  {
   "cell_type": "markdown",
   "metadata": {},
   "source": [
    "## Preprocess the Data"
   ]
  },
  {
   "cell_type": "code",
   "execution_count": 6,
   "metadata": {},
   "outputs": [
    {
     "data": {
      "text/html": [
       "<div>\n",
       "<style scoped>\n",
       "    .dataframe tbody tr th:only-of-type {\n",
       "        vertical-align: middle;\n",
       "    }\n",
       "\n",
       "    .dataframe tbody tr th {\n",
       "        vertical-align: top;\n",
       "    }\n",
       "\n",
       "    .dataframe thead th {\n",
       "        text-align: right;\n",
       "    }\n",
       "</style>\n",
       "<table border=\"1\" class=\"dataframe\">\n",
       "  <thead>\n",
       "    <tr style=\"text-align: right;\">\n",
       "      <th></th>\n",
       "      <th>cat</th>\n",
       "      <th>msg</th>\n",
       "    </tr>\n",
       "  </thead>\n",
       "  <tbody>\n",
       "    <tr>\n",
       "      <th>0</th>\n",
       "      <td>ham</td>\n",
       "      <td>Go until jurong point, crazy.. Available only ...</td>\n",
       "    </tr>\n",
       "    <tr>\n",
       "      <th>1</th>\n",
       "      <td>ham</td>\n",
       "      <td>Ok lar... Joking wif u oni...</td>\n",
       "    </tr>\n",
       "    <tr>\n",
       "      <th>2</th>\n",
       "      <td>spam</td>\n",
       "      <td>Free entry in 2 a wkly comp to win FA Cup fina...</td>\n",
       "    </tr>\n",
       "    <tr>\n",
       "      <th>3</th>\n",
       "      <td>ham</td>\n",
       "      <td>U dun say so early hor... U c already then say...</td>\n",
       "    </tr>\n",
       "    <tr>\n",
       "      <th>4</th>\n",
       "      <td>ham</td>\n",
       "      <td>Nah I don't think he goes to usf, he lives aro...</td>\n",
       "    </tr>\n",
       "  </tbody>\n",
       "</table>\n",
       "</div>"
      ],
      "text/plain": [
       "    cat                                                msg\n",
       "0   ham  Go until jurong point, crazy.. Available only ...\n",
       "1   ham                      Ok lar... Joking wif u oni...\n",
       "2  spam  Free entry in 2 a wkly comp to win FA Cup fina...\n",
       "3   ham  U dun say so early hor... U c already then say...\n",
       "4   ham  Nah I don't think he goes to usf, he lives aro..."
      ]
     },
     "execution_count": 6,
     "metadata": {},
     "output_type": "execute_result"
    }
   ],
   "source": [
    "data.rename(columns = {\"v1\":\"cat\",\"v2\":\"msg\"},inplace = True)\n",
    "data.head()"
   ]
  },
  {
   "cell_type": "markdown",
   "metadata": {},
   "source": [
    "## label the class"
   ]
  },
  {
   "cell_type": "code",
   "execution_count": 7,
   "metadata": {},
   "outputs": [
    {
     "data": {
      "text/html": [
       "<div>\n",
       "<style scoped>\n",
       "    .dataframe tbody tr th:only-of-type {\n",
       "        vertical-align: middle;\n",
       "    }\n",
       "\n",
       "    .dataframe tbody tr th {\n",
       "        vertical-align: top;\n",
       "    }\n",
       "\n",
       "    .dataframe thead th {\n",
       "        text-align: right;\n",
       "    }\n",
       "</style>\n",
       "<table border=\"1\" class=\"dataframe\">\n",
       "  <thead>\n",
       "    <tr style=\"text-align: right;\">\n",
       "      <th></th>\n",
       "      <th>cat</th>\n",
       "      <th>msg</th>\n",
       "    </tr>\n",
       "  </thead>\n",
       "  <tbody>\n",
       "    <tr>\n",
       "      <th>0</th>\n",
       "      <td>0</td>\n",
       "      <td>Go until jurong point, crazy.. Available only ...</td>\n",
       "    </tr>\n",
       "    <tr>\n",
       "      <th>1</th>\n",
       "      <td>0</td>\n",
       "      <td>Ok lar... Joking wif u oni...</td>\n",
       "    </tr>\n",
       "    <tr>\n",
       "      <th>2</th>\n",
       "      <td>1</td>\n",
       "      <td>Free entry in 2 a wkly comp to win FA Cup fina...</td>\n",
       "    </tr>\n",
       "    <tr>\n",
       "      <th>3</th>\n",
       "      <td>0</td>\n",
       "      <td>U dun say so early hor... U c already then say...</td>\n",
       "    </tr>\n",
       "    <tr>\n",
       "      <th>4</th>\n",
       "      <td>0</td>\n",
       "      <td>Nah I don't think he goes to usf, he lives aro...</td>\n",
       "    </tr>\n",
       "  </tbody>\n",
       "</table>\n",
       "</div>"
      ],
      "text/plain": [
       "   cat                                                msg\n",
       "0    0  Go until jurong point, crazy.. Available only ...\n",
       "1    0                      Ok lar... Joking wif u oni...\n",
       "2    1  Free entry in 2 a wkly comp to win FA Cup fina...\n",
       "3    0  U dun say so early hor... U c already then say...\n",
       "4    0  Nah I don't think he goes to usf, he lives aro..."
      ]
     },
     "execution_count": 7,
     "metadata": {},
     "output_type": "execute_result"
    }
   ],
   "source": [
    "data.cat.replace(to_replace=['spam','ham'], value=[labels['spam'],labels['ham']],inplace=True)\n",
    "data.head()"
   ]
  },
  {
   "cell_type": "markdown",
   "metadata": {},
   "source": [
    "## Remove the duplicates from data"
   ]
  },
  {
   "cell_type": "code",
   "execution_count": 8,
   "metadata": {},
   "outputs": [
    {
     "data": {
      "text/html": [
       "<div>\n",
       "<style scoped>\n",
       "    .dataframe tbody tr th:only-of-type {\n",
       "        vertical-align: middle;\n",
       "    }\n",
       "\n",
       "    .dataframe tbody tr th {\n",
       "        vertical-align: top;\n",
       "    }\n",
       "\n",
       "    .dataframe thead th {\n",
       "        text-align: right;\n",
       "    }\n",
       "</style>\n",
       "<table border=\"1\" class=\"dataframe\">\n",
       "  <thead>\n",
       "    <tr style=\"text-align: right;\">\n",
       "      <th></th>\n",
       "      <th>cat</th>\n",
       "      <th>msg</th>\n",
       "    </tr>\n",
       "  </thead>\n",
       "  <tbody>\n",
       "    <tr>\n",
       "      <th>4024</th>\n",
       "      <td>0</td>\n",
       "      <td>&amp;lt;#&amp;gt;  in mca. But not conform.</td>\n",
       "    </tr>\n",
       "    <tr>\n",
       "      <th>3014</th>\n",
       "      <td>0</td>\n",
       "      <td>&amp;lt;#&amp;gt;  mins but i had to stop somewhere f...</td>\n",
       "    </tr>\n",
       "    <tr>\n",
       "      <th>4264</th>\n",
       "      <td>0</td>\n",
       "      <td>&amp;lt;DECIMAL&amp;gt; m but its not a common car he...</td>\n",
       "    </tr>\n",
       "    <tr>\n",
       "      <th>2765</th>\n",
       "      <td>0</td>\n",
       "      <td>and  picking them up from various points</td>\n",
       "    </tr>\n",
       "    <tr>\n",
       "      <th>3671</th>\n",
       "      <td>0</td>\n",
       "      <td>came to look at the flat, seems ok, in his 50...</td>\n",
       "    </tr>\n",
       "  </tbody>\n",
       "</table>\n",
       "</div>"
      ],
      "text/plain": [
       "      cat                                                msg\n",
       "4024    0                &lt;#&gt;  in mca. But not conform.\n",
       "3014    0   &lt;#&gt;  mins but i had to stop somewhere f...\n",
       "4264    0   &lt;DECIMAL&gt; m but its not a common car he...\n",
       "2765    0           and  picking them up from various points\n",
       "3671    0   came to look at the flat, seems ok, in his 50..."
      ]
     },
     "execution_count": 8,
     "metadata": {},
     "output_type": "execute_result"
    }
   ],
   "source": [
    "arr, indexes = np.unique(data[:]['msg'],return_index=True)\n",
    "df_uniq = data.iloc[indexes,:]\n",
    "df_uniq.head()"
   ]
  },
  {
   "cell_type": "markdown",
   "metadata": {},
   "source": [
    "## Function  to process the email string"
   ]
  },
  {
   "cell_type": "code",
   "execution_count": 9,
   "metadata": {},
   "outputs": [],
   "source": [
    "def remove_redundant(string):\n",
    "    t1 = string.replace('&gt','')\n",
    "    t1 = t1.replace('&lt','')\n",
    "    t1 = t1.lower()\n",
    "    ans = ''.join(i for i in t1 if(i.isalnum() or i==' '))\n",
    "    return ans.strip()"
   ]
  },
  {
   "cell_type": "code",
   "execution_count": 10,
   "metadata": {},
   "outputs": [],
   "source": [
    "X = df_uniq['msg'].values;\n",
    "\n",
    "for i, message in enumerate(X):\n",
    "    X[i] = remove_redundant(message);\n",
    "\n",
    "y = df_uniq['cat'].values;\n"
   ]
  },
  {
   "cell_type": "code",
   "execution_count": 11,
   "metadata": {},
   "outputs": [
    {
     "name": "stdout",
     "output_type": "stream",
     "text": [
      "(5169,)\n",
      "(5169,)\n",
      "3618\n",
      "3618\n"
     ]
    }
   ],
   "source": [
    "print(X.shape)\n",
    "print(y.shape)\n",
    "X_train, X_test, y_train, y_test = split(X, y, test_size=0.3)\n",
    "print(len(X_train))\n",
    "print(len(y_train))"
   ]
  },
  {
   "cell_type": "markdown",
   "metadata": {},
   "source": [
    "## Define a model and train it"
   ]
  },
  {
   "cell_type": "code",
   "execution_count": 12,
   "metadata": {},
   "outputs": [
    {
     "name": "stdout",
     "output_type": "stream",
     "text": [
      "Wall time: 392 ms\n"
     ]
    }
   ],
   "source": [
    "a = Bayesian(X_train,y_train)\n",
    "%time a.train()\n"
   ]
  },
  {
   "cell_type": "markdown",
   "metadata": {},
   "source": [
    "## Predict the testing data previously un seen"
   ]
  },
  {
   "cell_type": "code",
   "execution_count": 13,
   "metadata": {},
   "outputs": [],
   "source": [
    "predicted = a.predict_array(X_test)"
   ]
  },
  {
   "cell_type": "markdown",
   "metadata": {},
   "source": [
    "## Calculate the metrics of measurement"
   ]
  },
  {
   "cell_type": "code",
   "execution_count": 14,
   "metadata": {},
   "outputs": [
    {
     "name": "stdout",
     "output_type": "stream",
     "text": [
      "Precision:  0.945\n",
      "Recall:  0.9\n",
      "F-score:  0.5978910369068541\n",
      "Accuracy:  0.9800257731958762\n",
      "189   1332   10   20\n"
     ]
    }
   ],
   "source": [
    "a.metrics(y_test,predicted)"
   ]
  },
  {
   "cell_type": "markdown",
   "metadata": {},
   "source": [
    "## Prepare and plot the confusion matrix"
   ]
  },
  {
   "cell_type": "code",
   "execution_count": 15,
   "metadata": {},
   "outputs": [
    {
     "data": {
      "image/png": "[encoded data removed]",
      "text/plain": [
       "<Figure size 432x288 with 2 Axes>"
      ]
     },
     "metadata": {},
     "output_type": "display_data"
    }
   ],
   "source": [
    "plot_confusion_matrix(predicted,y_test)"
   ]
  },
  {
   "cell_type": "code",
   "execution_count": null,
   "metadata": {},
   "outputs": [],
   "source": []
  }
 ],
 "metadata": {
  "kernelspec": {
   "display_name": "Python 3",
   "language": "python",
   "name": "python3"
  },
  "language_info": {
   "codemirror_mode": {
    "name": "ipython",
    "version": 3
   },
   "file_extension": ".py",
   "mimetype": "text/x-python",
   "name": "python",
   "nbconvert_exporter": "python",
   "pygments_lexer": "ipython3",
   "version": "3.7.3"
  }
 },
 "nbformat": 4,
 "nbformat_minor": 2
}
